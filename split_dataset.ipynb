{
 "cells": [
  {
   "cell_type": "code",
   "execution_count": 14,
   "id": "6ae57de9",
   "metadata": {},
   "outputs": [],
   "source": [
    "import pandas as pd"
   ]
  },
  {
   "cell_type": "code",
   "execution_count": 15,
   "id": "34b60fce",
   "metadata": {},
   "outputs": [],
   "source": [
    "data_path = './new_train_data.csv'\n",
    "data = pd.read_csv(data_path)\n",
    "datas = data.loc[:, 'clear_finding':]\n",
    "impressions = data.loc[:, 'impression']"
   ]
  },
  {
   "cell_type": "code",
   "execution_count": 16,
   "id": "8d28d349",
   "metadata": {},
   "outputs": [],
   "source": [
    "from sklearn.utils import shuffle  # 打乱 csv 文件用"
   ]
  },
  {
   "cell_type": "code",
   "execution_count": 17,
   "id": "bbd64e1f",
   "metadata": {},
   "outputs": [
    {
     "data": {
      "text/plain": [
       "602738"
      ]
     },
     "execution_count": 17,
     "metadata": {},
     "output_type": "execute_result"
    }
   ],
   "source": [
    "datas = shuffle(datas)\n",
    "len(datas)"
   ]
  },
  {
   "cell_type": "code",
   "execution_count": 18,
   "id": "512579f6",
   "metadata": {
    "scrolled": true
   },
   "outputs": [],
   "source": [
    "# ratio = 7:1:2\n",
    "train_len = int(len(datas) * 0.7)\n",
    "val_len = int(len(datas) * 0.1)\n",
    "test_len = len(datas) - train_len - val_len"
   ]
  },
  {
   "cell_type": "code",
   "execution_count": 19,
   "id": "ea0d69b8",
   "metadata": {
    "scrolled": true
   },
   "outputs": [
    {
     "name": "stdout",
     "output_type": "stream",
     "text": [
      "421916 60273 120549\n"
     ]
    }
   ],
   "source": [
    "print(train_len, val_len, test_len)"
   ]
  },
  {
   "cell_type": "code",
   "execution_count": 20,
   "id": "02171f96",
   "metadata": {},
   "outputs": [
    {
     "data": {
      "text/plain": [
       "421916"
      ]
     },
     "execution_count": 20,
     "metadata": {},
     "output_type": "execute_result"
    }
   ],
   "source": [
    "train_data = datas[:train_len]\n",
    "len(train_data)"
   ]
  },
  {
   "cell_type": "code",
   "execution_count": 21,
   "id": "768ef7d9",
   "metadata": {},
   "outputs": [],
   "source": [
    "train_data.to_csv('train_data.csv', index=0)  # index = 0 不保存序号"
   ]
  },
  {
   "cell_type": "code",
   "execution_count": 22,
   "id": "87657bf5",
   "metadata": {},
   "outputs": [
    {
     "data": {
      "text/plain": [
       "60273"
      ]
     },
     "execution_count": 22,
     "metadata": {},
     "output_type": "execute_result"
    }
   ],
   "source": [
    "val_data = datas[train_len: train_len + val_len]\n",
    "len(val_data)"
   ]
  },
  {
   "cell_type": "code",
   "execution_count": 23,
   "id": "84e391b0",
   "metadata": {},
   "outputs": [],
   "source": [
    "val_data.to_csv('val_data.csv', index=0)  # index = 0 不保存序号"
   ]
  },
  {
   "cell_type": "code",
   "execution_count": 24,
   "id": "fae3d4d3",
   "metadata": {},
   "outputs": [
    {
     "data": {
      "text/plain": [
       "120549"
      ]
     },
     "execution_count": 24,
     "metadata": {},
     "output_type": "execute_result"
    }
   ],
   "source": [
    "test_data = datas[train_len + val_len:]\n",
    "len(test_data)"
   ]
  },
  {
   "cell_type": "code",
   "execution_count": 25,
   "id": "29c391e7",
   "metadata": {},
   "outputs": [],
   "source": [
    "test_data.to_csv('test_data.csv', index=0)  # index = 0 不保存序号"
   ]
  },
  {
   "cell_type": "code",
   "execution_count": 26,
   "id": "73134a9d",
   "metadata": {},
   "outputs": [],
   "source": [
    "a = [1, 2, 3]"
   ]
  },
  {
   "cell_type": "code",
   "execution_count": 27,
   "id": "db5ecc49",
   "metadata": {},
   "outputs": [
    {
     "data": {
      "text/plain": [
       "[1, 2]"
      ]
     },
     "execution_count": 27,
     "metadata": {},
     "output_type": "execute_result"
    }
   ],
   "source": [
    "a[:-1]"
   ]
  },
  {
   "cell_type": "code",
   "execution_count": 33,
   "id": "30156da8",
   "metadata": {},
   "outputs": [],
   "source": [
    "import pandas as pd\n",
    "csv = pd.read_csv('dic_with_age_clean.csv')\n",
    "\n",
    "datas = shuffle(csv)\n",
    "test_data_len = int(0.2 * len(datas))\n",
    "\n",
    "test_data = datas[:test_data_len]\n",
    "test_data = test_data[['clear_finding', 'impression']]\n",
    "test_data.to_csv('real_test_data.csv', index=0)  # index = 0 不保存序号"
   ]
  }
 ],
 "metadata": {
  "kernelspec": {
   "display_name": "Python 3 (ipykernel)",
   "language": "python",
   "name": "python3"
  },
  "language_info": {
   "codemirror_mode": {
    "name": "ipython",
    "version": 3
   },
   "file_extension": ".py",
   "mimetype": "text/x-python",
   "name": "python",
   "nbconvert_exporter": "python",
   "pygments_lexer": "ipython3",
   "version": "3.10.6"
  },
  "vscode": {
   "interpreter": {
    "hash": "8b2e6dabf44ed759418ca6c4a12427ba2445a2223f1fecf90d52614e9980f18e"
   }
  }
 },
 "nbformat": 4,
 "nbformat_minor": 5
}
