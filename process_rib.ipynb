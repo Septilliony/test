{
 "cells": [
  {
   "cell_type": "code",
   "execution_count": 10,
   "id": "5e07c8e4",
   "metadata": {},
   "outputs": [],
   "source": [
    "import pandas as pd\n",
    "csv = pd.read_csv('rib_8_16.csv')"
   ]
  },
  {
   "cell_type": "code",
   "execution_count": 32,
   "id": "356fa2cd",
   "metadata": {},
   "outputs": [
    {
     "name": "stderr",
     "output_type": "stream",
     "text": [
      "3446it [00:00, 27783.31it/s]\n"
     ]
    }
   ],
   "source": [
    "from tqdm  import tqdm\n",
    "import re\n",
    "\n",
    "'''\n",
    "1.1.\t骨质不连续 -> 左侧第6肋骨肋骨骨折\n",
    "1.2.\t形态欠规整 -> 左侧第6肋骨肋骨陈旧性骨折\n",
    "1.3.\t骨质破坏 -> 左侧第6肋骨骨质破坏 \n",
    "1.4.\t致密影 -> 左侧第6肋骨致密影 \n",
    "1.5.\t叉状肋 -> 左侧第6肋骨叉状肋\n",
    "1.6.\t骨质缺如 -> 左侧第6肋骨骨质缺如\n",
    "'''\n",
    "\n",
    "def get_rib(finding):\n",
    "    res = re.split(\"[。|；]\", finding)  # 分句\n",
    "    ret = []\n",
    "    for i in res:\n",
    "        if '肋骨' in i:\n",
    "            i = i.replace('骨质不连续', '骨折').replace('形态欠规整', '陈旧性骨折').replace('见', '')\n",
    "            ret.append(i)\n",
    "    return ret\n",
    "\n",
    "new_impression = []\n",
    "for index, row in tqdm(csv.iterrows()):\n",
    "    \n",
    "    res = re.split(\"[，| 。|；]\", row['generate_impression'])\n",
    "    if '肋骨' in row['generate_impression']:       \n",
    "        candi_list = [i for i in res if '肋骨' not in i]\n",
    "    else:\n",
    "        candi_list = res\n",
    "    if '肋骨' in row['clear_finding']:\n",
    "        res = get_rib(row['clear_finding'])\n",
    "        \n",
    "        for i in res:\n",
    "            candi_list.insert(0, i)\n",
    "        \n",
    "    new_impression.append('，'.join(candi_list).strip('，') + '。')\n",
    "csv['new_impression'] = new_impression"
   ]
  },
  {
   "cell_type": "code",
   "execution_count": 9,
   "id": "cfe9bbe4",
   "metadata": {},
   "outputs": [
    {
     "name": "stdout",
     "output_type": "stream",
     "text": [
      "右侧第九、十肋骨形态欠规整\n"
     ]
    }
   ],
   "source": [
    "import re\n",
    "test = '两肺肺纹理增粗；右侧第九、十肋骨形态欠规整。'\n",
    "get_location(test)"
   ]
  },
  {
   "cell_type": "code",
   "execution_count": 33,
   "id": "86380760",
   "metadata": {},
   "outputs": [],
   "source": [
    "csv.to_csv('process_rib.csv', index=None)"
   ]
  },
  {
   "cell_type": "code",
   "execution_count": 31,
   "id": "e3c0b67c",
   "metadata": {},
   "outputs": [
    {
     "data": {
      "text/plain": [
       "'左侧第6肋骨骨质缺如'"
      ]
     },
     "execution_count": 31,
     "metadata": {},
     "output_type": "execute_result"
    }
   ],
   "source": [
    "test = '左侧第6肋骨骨质缺如'\n",
    "test.replace('5', '')"
   ]
  }
 ],
 "metadata": {
  "kernelspec": {
   "display_name": "Python 3 (ipykernel)",
   "language": "python",
   "name": "python3"
  },
  "language_info": {
   "codemirror_mode": {
    "name": "ipython",
    "version": 3
   },
   "file_extension": ".py",
   "mimetype": "text/x-python",
   "name": "python",
   "nbconvert_exporter": "python",
   "pygments_lexer": "ipython3",
   "version": "3.10.6"
  }
 },
 "nbformat": 4,
 "nbformat_minor": 5
}
