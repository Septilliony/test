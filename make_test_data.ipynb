{
 "cells": [
  {
   "cell_type": "code",
   "execution_count": 2,
   "id": "5403a245",
   "metadata": {},
   "outputs": [],
   "source": [
    "import pandas as pd\n",
    "csv = pd.read_csv('dic_with_age_clean.csv')"
   ]
  },
  {
   "cell_type": "code",
   "execution_count": 6,
   "id": "31ea0e6e",
   "metadata": {
    "scrolled": true
   },
   "outputs": [
    {
     "data": {
      "text/html": [
       "<div>\n",
       "<style scoped>\n",
       "    .dataframe tbody tr th:only-of-type {\n",
       "        vertical-align: middle;\n",
       "    }\n",
       "\n",
       "    .dataframe tbody tr th {\n",
       "        vertical-align: top;\n",
       "    }\n",
       "\n",
       "    .dataframe thead th {\n",
       "        text-align: right;\n",
       "    }\n",
       "</style>\n",
       "<table border=\"1\" class=\"dataframe\">\n",
       "  <thead>\n",
       "    <tr style=\"text-align: right;\">\n",
       "      <th></th>\n",
       "      <th>clear_finding</th>\n",
       "      <th>frequency</th>\n",
       "      <th>impression</th>\n",
       "    </tr>\n",
       "  </thead>\n",
       "  <tbody>\n",
       "    <tr>\n",
       "      <th>32473</th>\n",
       "      <td>中年。男。纵隔右偏、气管欠居中；两肺肺纹理增多、增粗。</td>\n",
       "      <td>1</td>\n",
       "      <td>{'两肺未见明显异常；请结合临床。': 1}</td>\n",
       "    </tr>\n",
       "    <tr>\n",
       "      <th>32474</th>\n",
       "      <td>中年。男。两肺肺纹理增多、增粗、紊乱、模糊；右侧第五、六肋骨形态欠规整。</td>\n",
       "      <td>1</td>\n",
       "      <td>{'胸部所示符合支气管炎征象；右侧第五，六肋骨骨质结构欠规则；请结合临床；必要时进一步检查。...</td>\n",
       "    </tr>\n",
       "    <tr>\n",
       "      <th>32475</th>\n",
       "      <td>中年。男。胸廓呈桶状；右肺肺纹理减少；两侧膈面欠光滑；左侧肋膈角变钝。</td>\n",
       "      <td>1</td>\n",
       "      <td>{'考虑左侧液气胸，建议ct检查。': 1}</td>\n",
       "    </tr>\n",
       "    <tr>\n",
       "      <th>32476</th>\n",
       "      <td>老年。男。胸廓呈桶状、肋间隙增宽；两肺肺纹理增多、增粗；两肺肺野透亮度增高；两侧肋膈角变钝。</td>\n",
       "      <td>1</td>\n",
       "      <td>{'慢支伴肺气肿。': 1}</td>\n",
       "    </tr>\n",
       "    <tr>\n",
       "      <th>32477</th>\n",
       "      <td>幼儿。女。两肺肺纹理增多、增粗；两肺见结节状高密度影；右侧水平胸膜显影。</td>\n",
       "      <td>1</td>\n",
       "      <td>{'支气管炎。': 1}</td>\n",
       "    </tr>\n",
       "    <tr>\n",
       "      <th>32478</th>\n",
       "      <td>中年。男。两肺肺纹理增多、增粗；右肺上野中带见结节状高密度影，右肺中野中带见索条状高密度影。</td>\n",
       "      <td>1</td>\n",
       "      <td>{'左中肺野结节影伴纤维化灶，建议ct检查。': 1}</td>\n",
       "    </tr>\n",
       "    <tr>\n",
       "      <th>32479</th>\n",
       "      <td>老年。男。肋间隙增宽；两肺肺纹理增多、增粗、紊乱、模糊；左肺中野、左肺下野、右肺中野、右肺下...</td>\n",
       "      <td>1</td>\n",
       "      <td>{'胸部所示符合慢性支气管炎、肺气肿；两肺结节考虑；请结合临床或进检。': 1}</td>\n",
       "    </tr>\n",
       "    <tr>\n",
       "      <th>32480</th>\n",
       "      <td>中年。女。两肺肺纹理增多、紊乱；左肺下野中带见结节状高密度影。</td>\n",
       "      <td>1</td>\n",
       "      <td>{'左下肺野可疑结节影，乳头投影待除外，请随访复查。': 1}</td>\n",
       "    </tr>\n",
       "    <tr>\n",
       "      <th>32481</th>\n",
       "      <td>老年。女。两肺肺纹理增多、紊乱；两侧肺门形态欠规整；主动脉迂曲，主动脉增宽，主动脉球部钙化；...</td>\n",
       "      <td>1</td>\n",
       "      <td>{'两肺纹理增多紊乱；主动脉粥样硬化；片内诸骨骨质疏松改变；请结合临床。': 1}</td>\n",
       "    </tr>\n",
       "    <tr>\n",
       "      <th>32482</th>\n",
       "      <td>老年。女。左肺中野、左肺下野见结节状高密度影、见索条状高密度影；右侧肺门增浓；主动脉球部钙化。</td>\n",
       "      <td>1</td>\n",
       "      <td>{'左肺纤维、结节灶，随诊；右肺门影稍浓，必要时进一步检查；主动脉结钙化；摄及两上腹区域高密...</td>\n",
       "    </tr>\n",
       "  </tbody>\n",
       "</table>\n",
       "</div>"
      ],
      "text/plain": [
       "                                           clear_finding  frequency  \\\n",
       "32473                        中年。男。纵隔右偏、气管欠居中；两肺肺纹理增多、增粗。          1   \n",
       "32474               中年。男。两肺肺纹理增多、增粗、紊乱、模糊；右侧第五、六肋骨形态欠规整。          1   \n",
       "32475                中年。男。胸廓呈桶状；右肺肺纹理减少；两侧膈面欠光滑；左侧肋膈角变钝。          1   \n",
       "32476     老年。男。胸廓呈桶状、肋间隙增宽；两肺肺纹理增多、增粗；两肺肺野透亮度增高；两侧肋膈角变钝。          1   \n",
       "32477               幼儿。女。两肺肺纹理增多、增粗；两肺见结节状高密度影；右侧水平胸膜显影。          1   \n",
       "32478     中年。男。两肺肺纹理增多、增粗；右肺上野中带见结节状高密度影，右肺中野中带见索条状高密度影。          1   \n",
       "32479  老年。男。肋间隙增宽；两肺肺纹理增多、增粗、紊乱、模糊；左肺中野、左肺下野、右肺中野、右肺下...          1   \n",
       "32480                    中年。女。两肺肺纹理增多、紊乱；左肺下野中带见结节状高密度影。          1   \n",
       "32481  老年。女。两肺肺纹理增多、紊乱；两侧肺门形态欠规整；主动脉迂曲，主动脉增宽，主动脉球部钙化；...          1   \n",
       "32482    老年。女。左肺中野、左肺下野见结节状高密度影、见索条状高密度影；右侧肺门增浓；主动脉球部钙化。          1   \n",
       "\n",
       "                                              impression  \n",
       "32473                             {'两肺未见明显异常；请结合临床。': 1}  \n",
       "32474  {'胸部所示符合支气管炎征象；右侧第五，六肋骨骨质结构欠规则；请结合临床；必要时进一步检查。...  \n",
       "32475                             {'考虑左侧液气胸，建议ct检查。': 1}  \n",
       "32476                                     {'慢支伴肺气肿。': 1}  \n",
       "32477                                       {'支气管炎。': 1}  \n",
       "32478                        {'左中肺野结节影伴纤维化灶，建议ct检查。': 1}  \n",
       "32479           {'胸部所示符合慢性支气管炎、肺气肿；两肺结节考虑；请结合临床或进检。': 1}  \n",
       "32480                    {'左下肺野可疑结节影，乳头投影待除外，请随访复查。': 1}  \n",
       "32481          {'两肺纹理增多紊乱；主动脉粥样硬化；片内诸骨骨质疏松改变；请结合临床。': 1}  \n",
       "32482  {'左肺纤维、结节灶，随诊；右肺门影稍浓，必要时进一步检查；主动脉结钙化；摄及两上腹区域高密...  "
      ]
     },
     "execution_count": 6,
     "metadata": {},
     "output_type": "execute_result"
    }
   ],
   "source": [
    "csv.tail(10)"
   ]
  },
  {
   "cell_type": "code",
   "execution_count": 76,
   "id": "7c8d0546",
   "metadata": {},
   "outputs": [],
   "source": [
    "import random\n",
    "\n",
    "\n",
    "def generate_num(num):\n",
    "    candi_list_0 = ['一', '二', '三', '四', '五', '六', '七', '八', '九', '十', '十一', '十二', '十三', '十四', '十五', '十六']\n",
    "    candi_list_1 = [i for i in range(1, 17)]\n",
    "    example = '左侧第八、九、十、十一肋骨形态欠规整。'\n",
    "    map_dic = {v:k for k, v in zip(candi_list_0, candi_list_1)}\n",
    "    \n",
    "\n",
    "    candi_num_list = sorted(random.sample(candi_list_1, k=num))\n",
    "    candi_num_list_0 = [str(i) for i in candi_num_list]\n",
    "\n",
    "    candi_num_list_1 = [map_dic[i] for i in candi_num_list]\n",
    "\n",
    "    return '、'.join(candi_num_list_0), '、'.join(candi_num_list_1)\n",
    "\n",
    "row = []\n",
    "finding = []\n",
    "impression = []\n",
    "\n",
    "for num in range(1, 9):\n",
    "    for i in range(100):\n",
    "        x, y = generate_num(num) \n",
    "        row.append(['左侧第' + y + '肋骨形态欠规整。', '左侧第' + x + '肋骨形态欠规整。'])\n",
    "\n",
    "df = pd.DataFrame(row, columns=['clear_finding', 'impression'])"
   ]
  },
  {
   "cell_type": "code",
   "execution_count": 77,
   "id": "01718d9f",
   "metadata": {},
   "outputs": [],
   "source": [
    "df_rib.head()\n",
    "df.to_csv('maked_rib_data.csv', index=False)"
   ]
  },
  {
   "cell_type": "code",
   "execution_count": 59,
   "id": "6080604f",
   "metadata": {},
   "outputs": [
    {
     "data": {
      "text/plain": [
       "3360"
      ]
     },
     "execution_count": 59,
     "metadata": {},
     "output_type": "execute_result"
    }
   ],
   "source": []
  }
 ],
 "metadata": {
  "kernelspec": {
   "display_name": "Python 3 (ipykernel)",
   "language": "python",
   "name": "python3"
  },
  "language_info": {
   "codemirror_mode": {
    "name": "ipython",
    "version": 3
   },
   "file_extension": ".py",
   "mimetype": "text/x-python",
   "name": "python",
   "nbconvert_exporter": "python",
   "pygments_lexer": "ipython3",
   "version": "3.10.6"
  }
 },
 "nbformat": 4,
 "nbformat_minor": 5
}
